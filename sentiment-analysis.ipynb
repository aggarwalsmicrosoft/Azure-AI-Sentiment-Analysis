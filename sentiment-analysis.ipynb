{
 "cells": [
  {
   "cell_type": "markdown",
   "metadata": {},
   "source": [
    "### Install packages"
   ]
  },
  {
   "cell_type": "code",
   "execution_count": 1,
   "metadata": {},
   "outputs": [],
   "source": [
    "! pip install -r requirements.txt --quiet"
   ]
  },
  {
   "cell_type": "markdown",
   "metadata": {},
   "source": [
    "### Load .env file (Copy .env-sample to .env and update accordingly)\n",
    "\n",
    "Set the appropriate environment variables below:\n",
    "\n"
   ]
  },
  {
   "cell_type": "code",
   "execution_count": 2,
   "metadata": {},
   "outputs": [],
   "source": [
    "from dotenv import load_dotenv\n",
    "import os\n",
    "\n",
    "load_dotenv(override=True) # take environment variables from .env.\n",
    "\n",
    "\n",
    "azure_openai_endpoint = os.environ[\"AZURE_OPENAI_ENDPOINT\"]\n",
    "azure_openai_deployment_name = os.environ[\"AZURE_OPENAI_DEPLOYMENT_NAME\"]\n",
    "azure_openai_key = os.environ[\"AZURE_OPENAI_API_KEY\"]\n",
    "azure_openai_api_version = os.environ[\"AZURE_OPENAI_API_VERSION\"]\n"
   ]
  },
  {
   "cell_type": "markdown",
   "metadata": {},
   "source": [
    "## Write output to a CSV file"
   ]
  },
  {
   "cell_type": "code",
   "execution_count": null,
   "metadata": {},
   "outputs": [],
   "source": [
    "import csv\n",
    "def write_markdown_table_to_csv(markdown_content, output_file):\n",
    "    lines = [line.strip() for line in markdown_content.strip().split('\\n') if line.strip()]\n",
    "    # Filter out separator lines (those that start with |---)\n",
    "    data_lines = [line for line in lines if not set(line.replace('|', '').strip()) <= set('-:')]\n",
    "    rows = [ [cell.strip() for cell in line.strip('|').split('|')] for line in data_lines ]\n",
    "    with open(output_file, \"w\", encoding=\"utf-8\", newline=\"\") as f:\n",
    "        writer = csv.writer(f)\n",
    "        writer.writerows(rows)"
   ]
  },
  {
   "cell_type": "markdown",
   "metadata": {},
   "source": [
    "## Use Azure OpenAI to analyze sentiment & pain points in a survey"
   ]
  },
  {
   "cell_type": "code",
   "execution_count": null,
   "metadata": {},
   "outputs": [],
   "source": [
    "\n",
    "from openai import AzureOpenAI\n",
    "from openai.types.chat import ChatCompletion, ChatCompletionSystemMessageParam, ChatCompletionUserMessageParam, ChatCompletionMessage, ChatCompletionMessageParam\n",
    "from azure.identity.aio import DefaultAzureCredential, get_bearer_token_provider\n",
    "import pandas as pd\n",
    "\n",
    "\n",
    "token_provider = get_bearer_token_provider(DefaultAzureCredential(), \"https://cognitiveservices.azure.com/.default\")\n",
    "\n",
    "client = AzureOpenAI(\n",
    "    api_version=azure_openai_api_version,\n",
    "    azure_endpoint=azure_openai_endpoint,\n",
    "    api_key=azure_openai_key,\n",
    "    azure_ad_token_provider=token_provider if not azure_openai_key else None\n",
    ")\n",
    "\n",
    "def process_csv_files(folder_path):\n",
    "    \"\"\"\n",
    "    Process all CSV files in the specified folder.\n",
    "    Args:\n",
    "        folder_path (str): The path to the folder containing CSV files.\n",
    "        output_folder (str): The path to the folder where output CSVs will be saved.\n",
    " \n",
    "    \"\"\"\n",
    "    assistant_system_message = \"\"\"\n",
    "You are an AI assistant that analyzes sentiment data. Each row in the dataset contains a question in the 'Question:Name' column and a corresponding value in the 'Response Value' column. \n",
    "\n",
    "Below are the only sentiment analysis questions:\n",
    "\n",
    "Q1. \"Please provide additional detail to help us better understand the issue:\" → Category: General  \n",
    "Q2. \"Please tell us specifically why you provided the above answer regarding the service you received from\" → Category: General  \n",
    "Q3. \"Additional comments for RSA online support tools?\" → Category: Tools  \n",
    "Q4. \"What was the primary source of your dissatisfaction?\" → Category: TSE  \n",
    "Q5. \"Other, please specify:\" → Category: TSE  \n",
    "Q6. \"Please tell us specifically why you provided the above answer regarding the RSA Product.\" → Category: Product  \n",
    "\n",
    "For the above sentiment analysis questions : The \"Response Value\" column may contain useful feedback, irrelevant text, or no meaningful content. Your task is to intelligently identify and extract only actual pain points—statements that reflect dissatisfaction, frustration, pending task or problems experienced by the user.\n",
    "\n",
    "Ignore responses that are:\n",
    "- Blank or contain placeholder text (e.g., \"N/A\", \"None\", \"No comments\")\n",
    "- Positive or neutral feedback\n",
    "- Unrelated or unclear\n",
    "\n",
    "\"\"\"\n",
    "    query = \"\"\"\n",
    "1. Summarize the overall sentiment in percentage like how much percentage is positive and how much percentage is negative. And then list the summary of most positive comments from all the questions in the survey.\n",
    "\n",
    "2. Create a table with the following columns:\n",
    "- Sentiment Analysis Question\n",
    "- Category\n",
    "- Tools Pain Points\n",
    "- TSE Pain Points\n",
    "- Product Pain Points\n",
    "- General Pain Points\n",
    "\n",
    "Instructions:\n",
    "1. For each row in the data, include only the sentiment analysis questions listed in the system prompt, even if the same question appears multiple times in the dataset.\n",
    "2. Determine the Category using the mappings provided in the system prompt.\n",
    "3. For each occurrence of a sentiment analysis question, analyze the value in the \"Response Value\" column and determine if it contains a valid pain point.\n",
    "4. If a pain point is present, summarize it concisely and place it strictly in the appropriate column based on the category:\n",
    "   - If the category is Tools, fill in the Tools Pain Points column.\n",
    "   - If TSE, fill in the TSE Pain Points column.\n",
    "   - If Product, fill in the Product Pain Points column.\n",
    "   - If General, fill in the General Pain Points column.\n",
    "   Please do not copy the entire response value; instead, summarize the pain point in a few words or a short sentence.\n",
    "5. Do not place pain points in multiple columns or in a column that does not match the question's category. Ensure not to mix categories.\n",
    "6. If multiple pain points are found for the same question across different rows, include each one in the output table.\n",
    "7. Leave the pain point columns blank if the value in the \"Response Value\" column does not contain a valid pain point.\n",
    "\"\"\"\n",
    "\n",
    "    for filename in os.listdir(folder_path):\n",
    "        if filename.endswith('.csv'):\n",
    "            file_path = os.path.join(folder_path, filename)\n",
    "            print(f\"Processing file: {file_path}\")\n",
    "\n",
    "            df = pd.read_csv(file_path)\n",
    "            csv_content = df.to_csv(index=False)\n",
    "\n",
    "            query_message = f\"{query}\\nRelevant data: {csv_content}\"\n",
    "            messages =   [\n",
    "            ChatCompletionSystemMessageParam(role=\"system\", content=assistant_system_message),\n",
    "            ChatCompletionUserMessageParam(role=\"user\", content=query_message),\n",
    "            ] \n",
    "        \n",
    "            response: ChatCompletion = client.chat.completions.create(\n",
    "            model=azure_openai_deployment_name,\n",
    "                messages=messages,\n",
    "                max_tokens=800,\n",
    "                temperature=0.7,\n",
    "                top_p=0.95,\n",
    "                frequency_penalty=0,\n",
    "                presence_penalty=0,\n",
    "                stop=None,\n",
    "                stream=False\n",
    "            )\n",
    "\n",
    "            message: ChatCompletionMessage = response.choices[0].message\n",
    "            print(f\"{message.content}\")\n",
    "\n",
    "\n",
    "            output_folder= r\"YOur path to the output folder\"\n",
    "            # Try to parse the output as CSV and save it\n",
    "            output_file = os.path.join(output_folder, f\"output_{filename}\")\n",
    "            write_markdown_table_to_csv(message.content, output_file)\n",
    "\n",
    "            print(f\"Saved output to {output_file}\")\n",
    "\n",
    "\n",
    "process_csv_files(r\"Your path to the input folder\")"
   ]
  }
 ],
 "metadata": {
  "kernelspec": {
   "display_name": ".venv",
   "language": "python",
   "name": "python3"
  },
  "language_info": {
   "codemirror_mode": {
    "name": "ipython",
    "version": 3
   },
   "file_extension": ".py",
   "mimetype": "text/x-python",
   "name": "python",
   "nbconvert_exporter": "python",
   "pygments_lexer": "ipython3",
   "version": "3.12.10"
  }
 },
 "nbformat": 4,
 "nbformat_minor": 2
}
